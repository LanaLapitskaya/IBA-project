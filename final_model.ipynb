{
 "cells": [
  {
   "cell_type": "code",
   "execution_count": 1,
   "metadata": {},
   "outputs": [],
   "source": [
    "import numpy as np\n",
    "import librosa\n",
    "import soundfile\n",
    "import os, glob, pickle\n",
    "from sklearn.model_selection import train_test_split\n",
    "from tqdm import tqdm"
   ]
  },
  {
   "cell_type": "code",
   "execution_count": 2,
   "metadata": {},
   "outputs": [],
   "source": [
    "CLASSES = ['Exclamation', 'Question', 'Statement']\n",
    "PATH_TRAIN = 'C:\\\\Users\\\\Sveta\\\\PycharmProjects\\\\Course project\\\\Russian'\n",
    "PATH_TEST= 'C:\\\\Users\\\\Sveta\\\\PycharmProjects\\\\Course project\\\\Russian\\\\Test'"
   ]
  },
  {
   "cell_type": "code",
   "execution_count": 141,
   "metadata": {},
   "outputs": [],
   "source": [
    "def extract_feature(file_name, mfcc, chroma, mel):\n",
    "    X, sample_rate = librosa.load(file_name, res_type='kaiser_fast') \n",
    "    if chroma:\n",
    "        stft=np.abs(librosa.stft(X))\n",
    "    result=np.array([])\n",
    "    if mfcc:\n",
    "        mfccs=np.mean(librosa.feature.mfcc(y=X, sr=sample_rate, n_mfcc=40).T, axis=0)\n",
    "        result=np.hstack((result, mfccs))\n",
    "    if chroma:\n",
    "        chroma=np.mean(librosa.feature.chroma_stft(S=stft, sr=sample_rate).T,axis=0)\n",
    "        result=np.hstack((result, chroma))\n",
    "    if mel:\n",
    "        mel=np.mean(librosa.feature.melspectrogram(X, sr=sample_rate).T,axis=0)\n",
    "        result=np.hstack((result, mel))\n",
    "    return result"
   ]
  },
  {
   "cell_type": "code",
   "execution_count": 142,
   "metadata": {},
   "outputs": [],
   "source": [
    "def get_data(path):\n",
    "    X = []\n",
    "    y = []\n",
    "    count = 0\n",
    "    for int_class in CLASSES:\n",
    "        class_path = os.path.join(path, int_class)\n",
    "        #print(int_class)\n",
    "        for filename in tqdm(os.listdir(class_path)):\n",
    "            if not '.wav' in filename:\n",
    "                continue\n",
    "            filepath = glob.glob(os.path.join(class_path, filename))[0]\n",
    "            feature_vector = extract_feature(filepath, mfcc=True, chroma=True, mel=True)\n",
    "            X.append(feature_vector)\n",
    "            y.append(int_class)\n",
    "            count += 1\n",
    "    print('Set from ' + path + ' uploaded. \\nFiles ' + str(count))\n",
    "    return X, y"
   ]
  },
  {
   "cell_type": "code",
   "execution_count": 143,
   "metadata": {
    "scrolled": true
   },
   "outputs": [
    {
     "name": "stderr",
     "output_type": "stream",
     "text": [
      "100%|█████████████████████████████████████████████████████████████████████████████████████| 106/106 [00:03<00:00, 26.79it/s]\n",
      "100%|███████████████████████████████████████████████████████████████████████████████████████| 74/74 [00:02<00:00, 30.73it/s]\n",
      "100%|███████████████████████████████████████████████████████████████████████████████████████| 66/66 [00:03<00:00, 17.74it/s]"
     ]
    },
    {
     "name": "stdout",
     "output_type": "stream",
     "text": [
      "Set from C:\\Users\\Sveta\\PycharmProjects\\Course project\\Russian uploaded. \n",
      "Files 246\n"
     ]
    },
    {
     "name": "stderr",
     "output_type": "stream",
     "text": [
      "\n"
     ]
    }
   ],
   "source": [
    "X_train, y_train = get_data(PATH_TRAIN)"
   ]
  },
  {
   "cell_type": "code",
   "execution_count": 144,
   "metadata": {},
   "outputs": [
    {
     "name": "stderr",
     "output_type": "stream",
     "text": [
      "100%|███████████████████████████████████████████████████████████████████████████████████████| 20/20 [00:00<00:00, 22.98it/s]\n",
      "100%|███████████████████████████████████████████████████████████████████████████████████████| 23/23 [00:00<00:00, 23.48it/s]\n",
      "100%|███████████████████████████████████████████████████████████████████████████████████████| 23/23 [00:01<00:00, 17.40it/s]"
     ]
    },
    {
     "name": "stdout",
     "output_type": "stream",
     "text": [
      "Set from C:\\Users\\Sveta\\PycharmProjects\\Course project\\Russian\\Test uploaded. \n",
      "Files 66\n"
     ]
    },
    {
     "name": "stderr",
     "output_type": "stream",
     "text": [
      "\n"
     ]
    }
   ],
   "source": [
    "X_test, y_test = get_data(PATH_TEST)"
   ]
  },
  {
   "cell_type": "code",
   "execution_count": 145,
   "metadata": {},
   "outputs": [
    {
     "data": {
      "text/plain": [
       "RidgeClassifier(alpha=0.01, class_weight=None, copy_X=True, fit_intercept=True,\n",
       "                max_iter=None, normalize=False, random_state=None, solver='sag',\n",
       "                tol=0.001)"
      ]
     },
     "execution_count": 145,
     "metadata": {},
     "output_type": "execute_result"
    }
   ],
   "source": [
    "from sklearn.linear_model import RidgeClassifier\n",
    "from sklearn import metrics\n",
    "\n",
    "ridge = RidgeClassifier(alpha=0.01, solver=\"sag\")\n",
    "ridge.fit(X_train, y_train)"
   ]
  },
  {
   "cell_type": "code",
   "execution_count": 146,
   "metadata": {
    "scrolled": true
   },
   "outputs": [
    {
     "name": "stdout",
     "output_type": "stream",
     "text": [
      "              precision    recall  f1-score   support\n",
      "\n",
      " Exclamation       0.84      0.80      0.82        20\n",
      "    Question       0.73      0.83      0.78        23\n",
      "   Statement       0.95      0.87      0.91        23\n",
      "\n",
      "    accuracy                           0.83        66\n",
      "   macro avg       0.84      0.83      0.84        66\n",
      "weighted avg       0.84      0.83      0.84        66\n",
      "\n"
     ]
    }
   ],
   "source": [
    "y_pred = ridge.predict(X_test)\n",
    "print(metrics.classification_report(y_test, y_pred))"
   ]
  },
  {
   "cell_type": "code",
   "execution_count": 147,
   "metadata": {},
   "outputs": [],
   "source": [
    "import pickle\n",
    "# save the classifier\n",
    "with open('ridge84.pkl', 'wb') as fid:\n",
    "    pickle.dump(ridge, fid)    \n",
    "\n",
    "# load it again\n",
    "with open('ridge.pkl', 'rb') as fid:\n",
    "    model = pickle.load(fid)\n"
   ]
  },
  {
   "cell_type": "code",
   "execution_count": 148,
   "metadata": {},
   "outputs": [
    {
     "name": "stdout",
     "output_type": "stream",
     "text": [
      "              precision    recall  f1-score   support\n",
      "\n",
      " Exclamation       0.84      0.80      0.82        20\n",
      "    Question       0.73      0.83      0.78        23\n",
      "   Statement       0.95      0.87      0.91        23\n",
      "\n",
      "    accuracy                           0.83        66\n",
      "   macro avg       0.84      0.83      0.84        66\n",
      "weighted avg       0.84      0.83      0.84        66\n",
      "\n"
     ]
    }
   ],
   "source": [
    "y_pred2 = model.predict(X_test)\n",
    "print(metrics.classification_report(y_test, y_pred2))"
   ]
  },
  {
   "cell_type": "code",
   "execution_count": null,
   "metadata": {},
   "outputs": [],
   "source": []
  },
  {
   "cell_type": "code",
   "execution_count": null,
   "metadata": {},
   "outputs": [],
   "source": []
  }
 ],
 "metadata": {
  "kernelspec": {
   "display_name": "Python 3",
   "language": "python",
   "name": "python3"
  },
  "language_info": {
   "codemirror_mode": {
    "name": "ipython",
    "version": 3
   },
   "file_extension": ".py",
   "mimetype": "text/x-python",
   "name": "python",
   "nbconvert_exporter": "python",
   "pygments_lexer": "ipython3",
   "version": "3.7.1"
  }
 },
 "nbformat": 4,
 "nbformat_minor": 2
} 

{
 "cells": [
  {
   "cell_type": "code",
   "execution_count": 2,
   "metadata": {},
   "outputs": [],
   "source": [
    "import numpy as np\n",
    "import librosa\n",
    "import soundfile\n",
    "import os, glob, pickle\n",
    "from sklearn.model_selection import train_test_split\n",
    "from tqdm import tqdm"
   ]
  },
  {
   "cell_type": "code",
   "execution_count": 106,
   "metadata": {},
   "outputs": [],
   "source": [
    "CLASSES = ['Exclamation', 'Question', 'Statement']\n",
    "PATH_TRAIN = 'C:\\\\Users\\\\Sveta\\\\PycharmProjects\\\\Course project\\\\Russian'"
   ]
  },
  {
   "cell_type": "code",
   "execution_count": 43,
   "metadata": {},
   "outputs": [],
   "source": [
    "def extract_feature(file_name, mfcc, chroma, mel):\n",
    "    X, sample_rate = librosa.load(file_name, res_type='kaiser_fast')    \n",
    "    if chroma:\n",
    "        stft=np.abs(librosa.stft(X))\n",
    "    result=np.array([])\n",
    "    if mfcc:\n",
    "        mfccs=np.mean(librosa.feature.mfcc(y=X, sr=sample_rate, n_mfcc=40).T, axis=0)\n",
    "        result=np.hstack((result, mfccs))\n",
    "    if chroma:\n",
    "        chroma=np.mean(librosa.feature.chroma_stft(S=stft, sr=sample_rate).T,axis=0)\n",
    "        result=np.hstack((result, chroma))\n",
    "    if mel:\n",
    "        mel=np.mean(librosa.feature.melspectrogram(X, sr=sample_rate).T,axis=0)\n",
    "        result=np.hstack((result, mel))\n",
    "    return result"
   ]
  },
  {
   "cell_type": "code",
   "execution_count": 44,
   "metadata": {},
   "outputs": [],
   "source": [
    "def get_data(path):\n",
    "    X = []\n",
    "    y = []\n",
    "    count = 0\n",
    "    for int_class in CLASSES:\n",
    "        class_path = os.path.join(path, int_class)\n",
    "        #print(int_class)\n",
    "        for filename in tqdm(os.listdir(class_path)):\n",
    "            if not '.wav' in filename:\n",
    "                continue\n",
    "            filepath = glob.glob(os.path.join(class_path, filename))[0]\n",
    "            feature_vector = extract_feature(filepath, mfcc=True, chroma=True, mel=True)\n",
    "            X.append(feature_vector)\n",
    "            y.append(int_class)\n",
    "            count += 1\n",
    "    print('Set from ' + path + ' uploaded. \\nFiles ' + str(count))\n",
    "    return X, y"
   ]
  },
  {
   "cell_type": "code",
   "execution_count": 107,
   "metadata": {
    "scrolled": true
   },
   "outputs": [
    {
     "name": "stderr",
     "output_type": "stream",
     "text": [
      "100%|██████████████████████████████████████████████████████████████████████████████████| 74/74 [00:03<00:00, 20.12it/s]\n",
      "100%|██████████████████████████████████████████████████████████████████████████████████| 72/72 [00:03<00:00, 22.22it/s]\n",
      "100%|██████████████████████████████████████████████████████████████████████████████████| 83/83 [00:05<00:00, 16.01it/s]"
     ]
    },
    {
     "name": "stdout",
     "output_type": "stream",
     "text": [
      "Set from C:\\Users\\Sveta\\PycharmProjects\\Course project\\Russian uploaded. \n",
      "Files 229\n"
     ]
    },
    {
     "name": "stderr",
     "output_type": "stream",
     "text": [
      "\n"
     ]
    }
   ],
   "source": [
    "X, y = get_data(PATH_TRAIN)\n",
    "X_train, X_test, y_train, y_test = train_test_split(X, y, test_size=0.2, random_state=42)"
   ]
  },
  {
   "cell_type": "code",
   "execution_count": 382,
   "metadata": {},
   "outputs": [],
   "source": [
    "from sklearn.preprocessing import StandardScaler, MinMaxScaler\n",
    "from sklearn.model_selection import train_test_split, validation_curve, learning_curve\n",
    "from sklearn.linear_model import LinearRegression, Lasso, Ridge, ElasticNet"
   ]
  },
  {
   "cell_type": "code",
   "execution_count": 46,
   "metadata": {},
   "outputs": [],
   "source": [
    "accu = []\n",
    "prec = []\n",
    "rec = []\n",
    "f1 = []"
   ]
  },
  {
   "cell_type": "code",
   "execution_count": 47,
   "metadata": {},
   "outputs": [],
   "source": [
    "from sklearn import metrics\n",
    "\n",
    "def model_report(model, X_test, y_test):\n",
    "    y_pred = model.predict(X_test)\n",
    "    print(metrics.classification_report(y_test, y_pred))\n",
    "    #return metrics.accuracy_score(y_test, y_pred)"
   ]
  },
  {
   "cell_type": "markdown",
   "metadata": {},
   "source": [
    "## DecisionTreeClassifier"
   ]
  },
  {
   "cell_type": "code",
   "execution_count": 48,
   "metadata": {},
   "outputs": [],
   "source": [
    "from sklearn.tree import DecisionTreeClassifier\n",
    "tree = DecisionTreeClassifier(\n",
    "    #criterion='gini',\n",
    "    max_depth=4,\n",
    "    min_samples_split=6,\n",
    "    min_samples_leaf=1,\n",
    "    max_features=None,\n",
    "    random_state=42\n",
    " )"
   ]
  },
  {
   "cell_type": "code",
   "execution_count": 49,
   "metadata": {
    "scrolled": true
   },
   "outputs": [
    {
     "data": {
      "text/plain": [
       "DecisionTreeClassifier(class_weight=None, criterion='gini', max_depth=4,\n",
       "                       max_features=None, max_leaf_nodes=None,\n",
       "                       min_impurity_decrease=0.0, min_impurity_split=None,\n",
       "                       min_samples_leaf=1, min_samples_split=6,\n",
       "                       min_weight_fraction_leaf=0.0, presort=False,\n",
       "                       random_state=42, splitter='best')"
      ]
     },
     "execution_count": 49,
     "metadata": {},
     "output_type": "execute_result"
    }
   ],
   "source": [
    "tree.fit(X_train,y_train)"
   ]
  },
  {
   "cell_type": "code",
   "execution_count": 50,
   "metadata": {
    "scrolled": true
   },
   "outputs": [
    {
     "name": "stdout",
     "output_type": "stream",
     "text": [
      "              precision    recall  f1-score   support\n",
      "\n",
      " Exclamation       0.29      0.55      0.37        11\n",
      "    Question       0.50      0.29      0.37        17\n",
      "   Statement       0.87      0.72      0.79        18\n",
      "\n",
      "    accuracy                           0.52        46\n",
      "   macro avg       0.55      0.52      0.51        46\n",
      "weighted avg       0.59      0.52      0.53        46\n",
      "\n"
     ]
    }
   ],
   "source": [
    "model_report(tree, X_test, y_test)"
   ]
  },
  {
   "cell_type": "code",
   "execution_count": 14,
   "metadata": {
    "scrolled": true
   },
   "outputs": [],
   "source": [
    "y_pred2=tree.predict(X_test)"
   ]
  },
  {
   "cell_type": "code",
   "execution_count": 51,
   "metadata": {},
   "outputs": [],
   "source": [
    "#accu.append(metrics.accuracy_score(y_test, y_pred2))"
   ]
  },
  {
   "cell_type": "code",
   "execution_count": 16,
   "metadata": {},
   "outputs": [],
   "source": [
    "from sklearn.model_selection import cross_val_score\n",
    "\n",
    "#scores = cross_val_score(log_clf, X, y, cv=5)\n",
    "#scores"
   ]
  },
  {
   "cell_type": "markdown",
   "metadata": {},
   "source": [
    "## RandomForestClassifier"
   ]
  },
  {
   "cell_type": "code",
   "execution_count": 88,
   "metadata": {},
   "outputs": [],
   "source": [
    "from sklearn.ensemble import RandomForestClassifier\n",
    "\n",
    "\n",
    "rf = RandomForestClassifier(\n",
    "    criterion='gini',\n",
    "    n_estimators=100,\n",
    "    max_depth=6,\n",
    "    min_samples_split=5,\n",
    "    min_samples_leaf=1,\n",
    "    max_features=None,\n",
    "    random_state=42)"
   ]
  },
  {
   "cell_type": "code",
   "execution_count": 89,
   "metadata": {},
   "outputs": [],
   "source": [
    "rf.fit(X_train, y_train)\n",
    "y_pred_rf = rf.predict(X_test)\n"
   ]
  },
  {
   "cell_type": "code",
   "execution_count": 90,
   "metadata": {},
   "outputs": [
    {
     "name": "stdout",
     "output_type": "stream",
     "text": [
      "              precision    recall  f1-score   support\n",
      "\n",
      " Exclamation       0.43      0.82      0.56        11\n",
      "    Question       0.77      0.59      0.67        17\n",
      "   Statement       0.92      0.61      0.73        18\n",
      "\n",
      "    accuracy                           0.65        46\n",
      "   macro avg       0.70      0.67      0.65        46\n",
      "weighted avg       0.75      0.65      0.67        46\n",
      "\n"
     ]
    }
   ],
   "source": [
    "model_report(rf, X_test, y_test)"
   ]
  },
  {
   "cell_type": "code",
   "execution_count": 395,
   "metadata": {},
   "outputs": [],
   "source": [
    "y, sr = librosa.load(librosa.util.example_audio_file())\n",
    "pitches, magnitudes = librosa.piptrack(y=X[0], sr=1000)"
   ]
  },
  {
   "cell_type": "markdown",
   "metadata": {},
   "source": [
    "## LogisticRegression"
   ]
  },
  {
   "cell_type": "code",
   "execution_count": 127,
   "metadata": {},
   "outputs": [],
   "source": [
    "from sklearn.linear_model import LogisticRegression\n",
    "\n",
    "log_clf = LogisticRegression(multi_class=\"multinomial\", solver=\"newton-cg\", random_state=42, n_jobs=-1)"
   ]
  },
  {
   "cell_type": "code",
   "execution_count": 128,
   "metadata": {},
   "outputs": [],
   "source": [
    "log_clf.fit(X_train, y_train)\n",
    "y_pred_lr = log_clf.predict(X_test)"
   ]
  },
  {
   "cell_type": "code",
   "execution_count": 129,
   "metadata": {
    "scrolled": false
   },
   "outputs": [
    {
     "name": "stdout",
     "output_type": "stream",
     "text": [
      "              precision    recall  f1-score   support\n",
      "\n",
      " Exclamation       0.88      0.64      0.74        11\n",
      "    Question       0.67      0.59      0.62        17\n",
      "   Statement       0.70      0.89      0.78        18\n",
      "\n",
      "    accuracy                           0.72        46\n",
      "   macro avg       0.75      0.70      0.71        46\n",
      "weighted avg       0.73      0.72      0.71        46\n",
      "\n"
     ]
    }
   ],
   "source": [
    "model_report(log_clf, X_test, y_test)"
   ]
  },
  {
   "cell_type": "code",
   "execution_count": 399,
   "metadata": {},
   "outputs": [],
   "source": [
    "accu.append(metrics.accuracy_score(y_test, y_pred_lr))"
   ]
  },
  {
   "cell_type": "markdown",
   "metadata": {},
   "source": [
    "## Knn "
   ]
  },
  {
   "cell_type": "code",
   "execution_count": 118,
   "metadata": {
    "scrolled": true
   },
   "outputs": [
    {
     "name": "stdout",
     "output_type": "stream",
     "text": [
      "              precision    recall  f1-score   support\n",
      "\n",
      " Exclamation       0.40      0.55      0.46        11\n",
      "    Question       0.53      0.47      0.50        17\n",
      "   Statement       0.75      0.67      0.71        18\n",
      "\n",
      "    accuracy                           0.57        46\n",
      "   macro avg       0.56      0.56      0.56        46\n",
      "weighted avg       0.59      0.57      0.57        46\n",
      "\n"
     ]
    }
   ],
   "source": [
    "from sklearn.neighbors import KNeighborsClassifier\n",
    "\n",
    "knn = KNeighborsClassifier(n_neighbors=9)\n",
    "knn.fit(X_train, y_train)\n",
    "\n",
    "model_report(knn, X_test, y_test)"
   ]
  },
  {
   "cell_type": "markdown",
   "metadata": {},
   "source": [
    "## RidgeClassifier"
   ]
  },
  {
   "cell_type": "code",
   "execution_count": 99,
   "metadata": {
    "scrolled": false
   },
   "outputs": [
    {
     "name": "stdout",
     "output_type": "stream",
     "text": [
      "              precision    recall  f1-score   support\n",
      "\n",
      " Exclamation       0.67      0.73      0.70        11\n",
      "    Question       0.73      0.65      0.69        17\n",
      "   Statement       0.84      0.89      0.86        18\n",
      "\n",
      "    accuracy                           0.76        46\n",
      "   macro avg       0.75      0.75      0.75        46\n",
      "weighted avg       0.76      0.76      0.76        46\n",
      "\n"
     ]
    }
   ],
   "source": [
    "from sklearn.linear_model import RidgeClassifier\n",
    "\n",
    "\n",
    "\n",
    "ridge = RidgeClassifier(alpha=0.01, solver=\"sag\")\n",
    "ridge.fit(X_train, y_train)\n",
    "y_pred_r = ridge.predict(X_test)\n",
    "model_report(ridge, X_test, y_test)"
   ]
  },
  {
   "cell_type": "code",
   "execution_count": 101,
   "metadata": {},
   "outputs": [],
   "source": [
    "import pickle\n",
    "# save the classifier\n",
    "with open('ridge.pkl', 'wb') as fid:\n",
    "    pickle.dump(ridge, fid)    \n",
    "\n",
    "# load it again\n",
    "with open('ridge.pkl', 'rb') as fid:\n",
    "    model = pickle.load(fid)\n",
    "\n"
   ]
  },
  {
   "cell_type": "code",
   "execution_count": 102,
   "metadata": {},
   "outputs": [
    {
     "data": {
      "text/plain": [
       "'Question'"
      ]
     },
     "execution_count": 102,
     "metadata": {},
     "output_type": "execute_result"
    }
   ],
   "source": [
    "feature_vector = extract_feature('- Разве это Ната+ша^.wav', mfcc=True, chroma=True, mel=True)\n",
    "model.predict(feature_vector.reshape(1, -1)).item(0)"
   ]
  },
  {
   "cell_type": "code",
   "execution_count": 103,
   "metadata": {
    "scrolled": true
   },
   "outputs": [
    {
     "name": "stdout",
     "output_type": "stream",
     "text": [
      "              precision    recall  f1-score   support\n",
      "\n",
      " Exclamation       0.67      0.73      0.70        11\n",
      "    Question       0.73      0.65      0.69        17\n",
      "   Statement       0.84      0.89      0.86        18\n",
      "\n",
      "    accuracy                           0.76        46\n",
      "   macro avg       0.75      0.75      0.75        46\n",
      "weighted avg       0.76      0.76      0.76        46\n",
      "\n"
     ]
    }
   ],
   "source": [
    "res = model.predict(X_test)\n",
    "model_report(model, X_test, y_test)"
   ]
  },
  {
   "cell_type": "markdown",
   "metadata": {},
   "source": [
    "## SVM"
   ]
  },
  {
   "cell_type": "code",
   "execution_count": 130,
   "metadata": {},
   "outputs": [
    {
     "name": "stdout",
     "output_type": "stream",
     "text": [
      "              precision    recall  f1-score   support\n",
      "\n",
      " Exclamation       0.88      0.64      0.74        11\n",
      "    Question       0.69      0.65      0.67        17\n",
      "   Statement       0.73      0.89      0.80        18\n",
      "\n",
      "    accuracy                           0.74        46\n",
      "   macro avg       0.76      0.72      0.73        46\n",
      "weighted avg       0.75      0.74      0.74        46\n",
      "\n"
     ]
    }
   ],
   "source": [
    "from sklearn.svm import LinearSVC\n",
    "\n",
    "svm = LinearSVC(penalty=\"l2\", dual=False, tol=1e-3)\n",
    "svm.fit(X_train, y_train)\n",
    "y_pred_svm= svm.predict(X_test)\n",
    "model_report(svm, X_test, y_test)"
   ]
  },
  {
   "cell_type": "code",
   "execution_count": 84,
   "metadata": {},
   "outputs": [
    {
     "data": {
      "image/png": "[encoded data removed]",
      "text/plain": [
       "<Figure size 1332x756 with 1 Axes>"
      ]
     },
     "metadata": {},
     "output_type": "display_data"
    }
   ],
   "source": [
    "import numpy as np\n",
    "import matplotlib.pyplot as plt\n",
    "plt.style.use('ggplot')\n",
    "N = 5\n",
    "\n",
    "ind = np.arange(N)\n",
    "width = 0.2\n",
    "fig, ax = plt.subplots()\n",
    "fig.set_size_inches(18.5, 10.5)\n",
    "\n",
    "accu = [0.62, 0.62, 0.62, 0.66, 0.54]\n",
    "rects1 = ax.bar(ind, accu, width)\n",
    "prec = [0.67, 0.64, 0.63, 0.67, 0.53]\n",
    "rects2 = ax.bar(ind+width, prec, width)\n",
    "rec = [0.62, 0.64, 0.63, 0.67, 0.56]\n",
    "rects3 = ax.bar(ind + 2 * width, rec, width)\n",
    "f1 = [0.62, 0.64, 0.64, 0.67, 0.64]\n",
    "\n",
    "rects4 = ax.bar(ind + 3 * width, f1, width)\n",
    "\n",
    "ax.set_ylabel('Scores')\n",
    "ax.set_title('Scores for each algorithm')\n",
    "ax.set_xticks(ind + 1.5*width)\n",
    "ax.set_xticklabels(('DecisionTree', ' RandomForest', 'LogisticRegression', 'SVM', 'knn'))\n",
    "ax.legend((rects1[0], rects2[0], rects3[0], rects4[0]), ('Accuracy', 'Precision', 'Recall', 'F1'),\n",
    "          loc='upper center', bbox_to_anchor=(0.5, -0.05), shadow=True, ncol=2)\n",
    "\n",
    "plt.show()"
   ]
  },
  {
   "cell_type": "code",
   "execution_count": null,
   "metadata": {},
   "outputs": [],
   "source": []
  }
 ],
 "metadata": {
  "kernelspec": {
   "display_name": "Python 3",
   "language": "python",
   "name": "python3"
  },
  "language_info": {
   "codemirror_mode": {
    "name": "ipython",
    "version": 3
   },
   "file_extension": ".py",
   "mimetype": "text/x-python",
   "name": "python",
   "nbconvert_exporter": "python",
   "pygments_lexer": "ipython3",
   "version": "3.7.1"
  }
 },
 "nbformat": 4,
 "nbformat_minor": 2
} 
